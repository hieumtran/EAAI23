{
 "cells": [
  {
   "cell_type": "code",
   "execution_count": 1,
   "metadata": {},
   "outputs": [
    {
     "data": {
      "text/plain": [
       "<torch._C.Generator at 0x17c1117d9d0>"
      ]
     },
     "execution_count": 1,
     "metadata": {},
     "output_type": "execute_result"
    }
   ],
   "source": [
    "import torch\n",
    "import pandas as pd\n",
    "import numpy as np\n",
    "from torch.utils.data import Dataset, DataLoader\n",
    "import os\n",
    "from PIL import Image\n",
    "\n",
    "torch.manual_seed(123)"
   ]
  },
  {
   "cell_type": "markdown",
   "metadata": {},
   "source": [
    "## Class Dataset\n",
    "inherit from torch.utils.data.Dataset. Will later be used for DataLoader."
   ]
  },
  {
   "cell_type": "code",
   "execution_count": 22,
   "metadata": {},
   "outputs": [],
   "source": [
    "# inherit the torch.utils.data.Dataset class\n",
    "class Dataset(Dataset) :\n",
    "\n",
    "    def __init__(self, image_dir, label_frame, transform=None) :\n",
    "        \"\"\"\n",
    "        Args:\n",
    "            image_dir (string): Directory with all the images.\n",
    "            label_frame (string): Path to the csv file with class or regression labels.\n",
    "            transform (callable, optional): Optional transform to be applied\n",
    "                on a sample.\n",
    "        \"\"\"\n",
    "        self.image_dir = image_dir\n",
    "        self.label_frame = pd.read_csv(label_frame)\n",
    "        self.transform = transform\n",
    "\n",
    "    def __len__(self) :\n",
    "        return self.label_frame.shape[0]\n",
    "\n",
    "    def __getitem__(self, idx):\n",
    "        if torch.is_tensor(idx):\n",
    "            idx = idx.tolist()\n",
    "\n",
    "        img_name = os.path.join(self.image_dir,\n",
    "                                self.label_frame.iloc[idx, 0])\n",
    "        images = Image.open(img_name)\n",
    "        labels = self.label_frame.iloc[idx, 1:]\n",
    "        labels = np.array([labels])\n",
    "        labels = labels.astype('float').reshape(-1, 2)\n",
    "\n",
    "        if self.transform:\n",
    "            images = self.transform(images)\n",
    "\n",
    "        return images, labels"
   ]
  },
  {
   "cell_type": "markdown",
   "metadata": {},
   "source": [
    "## Using Dataset and DataLoader\n",
    "**Setting up the directory to access data**\n",
    "- root = \"directory to the EAAI23 folder (the folder containing the folder data/train_set/images (or val_set/images for testing))\"\n",
    "- train_dir = root + \"directory from EAAI23 to the images folder.\" (The .csv data file has the image name corresponding to the train/val set so all train and validation photos can be in the same folder.)\n",
    "- train_frame = root + \"data/train_reg.csv\" (if pull and merge the new .csv data file, should not change this.)\n",
    "\n",
    "\n",
    "**Transformation_fnc**\n",
    "- Current set will do the following:\n",
    "    1. Resize the photos from and size and shape to (128, 128)\n",
    "    2. Convert the *PIL.Image* to *torch.tensor*\n",
    "    3. Normalize the image data to the range [0, 1]\n",
    "- Can customized by changing the transformations different *torchvision.transforms* functions\n",
    "\n",
    "**Dataset**\n",
    "- Should not change any arguments of this function\n",
    "\n",
    "**DataLoader**\n",
    "- only adjust the *batch_size* if needed. Currently set to 1024 data point per batch."
   ]
  },
  {
   "cell_type": "code",
   "execution_count": 23,
   "metadata": {},
   "outputs": [],
   "source": [
    "from torchvision import transforms\n",
    "\n",
    "root = \"C:/Phanh/BuAnhNet/EAAI23/\"\n",
    "train_dir = root + \"data/train_set/images\"\n",
    "train_frame = root + \"data/train_reg.csv\"\n",
    "\n",
    "# the mean and std was calculated using ImageNet dataset.\n",
    "#   Do we want to recalculate these values to fit with our dataset ?\n",
    "transform_fnc = transforms.Compose([\n",
    "    transforms.Resize(128),\n",
    "    transforms.ToTensor(),\n",
    "    transforms.Normalize(\n",
    "        mean=[0.485, 0.456, 0.406],             # might have to recalculate these values\n",
    "        std=[0.229, 0.224, 0.225],              #   for our dataset. otherwise, do not change.\n",
    "    ),\n",
    "])\n",
    "\n",
    "# data was pre-shuffled before saved to csv file\n",
    "dataSet = Dataset(train_dir, train_frame, transform=transform_fnc)                      \n",
    "# shuffle = False since the data has already been shuffled and splitted into the corresponding .csv file\n",
    "dataLoader = torch.utils.data.DataLoader(dataSet, batch_size=1024, shuffle=False)       "
   ]
  },
  {
   "cell_type": "markdown",
   "metadata": {},
   "source": [
    "## Implement DataLoader in training\n",
    "DataLoader will return images and labels corresponding to batchX, batchY used in training\n",
    "- The code following show the implementation of getting batchX, batchY for training."
   ]
  },
  {
   "cell_type": "code",
   "execution_count": 25,
   "metadata": {},
   "outputs": [
    {
     "name": "stdout",
     "output_type": "stream",
     "text": [
      "<class 'torch.Tensor'> <class 'torch.Tensor'>\n",
      "torch.Size([1024, 3, 128, 128]) torch.Size([1024, 1, 2])\n"
     ]
    }
   ],
   "source": [
    "for batchX, batchY in dataLoader :\n",
    "    print(type(batchX), type(batchY))\n",
    "    print(batchX.shape, batchY.shape)\n",
    "    break"
   ]
  }
 ],
 "metadata": {
  "interpreter": {
   "hash": "e28bfe5e849496f1d027a6bcc8730a360d479bceb67f0622f77bd617aebb68f4"
  },
  "kernelspec": {
   "display_name": "Python 3.9.5 64-bit",
   "language": "python",
   "name": "python3"
  },
  "language_info": {
   "codemirror_mode": {
    "name": "ipython",
    "version": 3
   },
   "file_extension": ".py",
   "mimetype": "text/x-python",
   "name": "python",
   "nbconvert_exporter": "python",
   "pygments_lexer": "ipython3",
   "version": "3.9.5"
  },
  "orig_nbformat": 4
 },
 "nbformat": 4,
 "nbformat_minor": 2
}
