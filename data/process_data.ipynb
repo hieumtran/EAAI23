{
 "cells": [
  {
   "cell_type": "markdown",
   "metadata": {},
   "source": [
    "## Import packages"
   ]
  },
  {
   "cell_type": "code",
   "execution_count": 2,
   "metadata": {},
   "outputs": [],
   "source": [
    "import numpy as np\n",
    "from PIL import Image\n",
    "import os, os.path\n",
    "# from sklearn.model_selection import train_test_split \n",
    "import gc"
   ]
  },
  {
   "cell_type": "markdown",
   "metadata": {},
   "source": [
    "## Load and Process Image Labels Data to Numpy Array\n",
    "- Total number of images for the trainning dataset: 414,796\n",
    "    - will split the training into training and validation datasets\n",
    "- Total number of images in the validation dataset: 5,495\n",
    "    - will use the validation dataset for testing"
   ]
  },
  {
   "cell_type": "code",
   "execution_count": 3,
   "metadata": {},
   "outputs": [],
   "source": [
    "def load_filename(path) :\n",
    "    \n",
    "    sorted_filename = np.sort(os.listdir(path))\n",
    "    return sorted_filename"
   ]
  },
  {
   "cell_type": "code",
   "execution_count": 6,
   "metadata": {},
   "outputs": [],
   "source": [
    "import pandas as pd\n",
    "\n",
    "def filename_label(sorted_filename, label_path, name) :\n",
    "    labels_sorted = np.load(label_path)\n",
    "\n",
    "    final = pd.DataFrame(data={\n",
    "        \"Image file\" : sorted_filename,\n",
    "        \"Label\" : labels_sorted\n",
    "    })\n",
    "\n",
    "    final.to_csv(name)"
   ]
  },
  {
   "cell_type": "code",
   "execution_count": 7,
   "metadata": {},
   "outputs": [
    {
     "ename": "ValueError",
     "evalue": "Per-column arrays must each be 1-dimensional",
     "output_type": "error",
     "traceback": [
      "\u001b[1;31m---------------------------------------------------------------------------\u001b[0m",
      "\u001b[1;31mValueError\u001b[0m                                Traceback (most recent call last)",
      "\u001b[1;32mc:\\Users\\DePauw\\AppData\\Local\\RenderCard\\EAAI23\\data\\process_data.ipynb Cell 6'\u001b[0m in \u001b[0;36m<cell line: 20>\u001b[1;34m()\u001b[0m\n\u001b[0;32m     <a href='vscode-notebook-cell:/c%3A/Users/DePauw/AppData/Local/RenderCard/EAAI23/data/process_data.ipynb#ch0000020?line=16'>17</a>\u001b[0m     filename_label(test_filename, test_class, \u001b[39m\"\u001b[39m\u001b[39mtest_name_classlable.csv\u001b[39m\u001b[39m\"\u001b[39m)\n\u001b[0;32m     <a href='vscode-notebook-cell:/c%3A/Users/DePauw/AppData/Local/RenderCard/EAAI23/data/process_data.ipynb#ch0000020?line=17'>18</a>\u001b[0m     filename_label(test_filename, test_reg, \u001b[39m\"\u001b[39m\u001b[39mtest_name_reglabel.csv\u001b[39m\u001b[39m\"\u001b[39m)\n\u001b[1;32m---> <a href='vscode-notebook-cell:/c%3A/Users/DePauw/AppData/Local/RenderCard/EAAI23/data/process_data.ipynb#ch0000020?line=19'>20</a>\u001b[0m main()\n",
      "\u001b[1;32mc:\\Users\\DePauw\\AppData\\Local\\RenderCard\\EAAI23\\data\\process_data.ipynb Cell 6'\u001b[0m in \u001b[0;36mmain\u001b[1;34m()\u001b[0m\n\u001b[0;32m      <a href='vscode-notebook-cell:/c%3A/Users/DePauw/AppData/Local/RenderCard/EAAI23/data/process_data.ipynb#ch0000020?line=5'>6</a>\u001b[0m train_reg \u001b[39m=\u001b[39m \u001b[39m\"\u001b[39m\u001b[39mtrainval_reg.npy\u001b[39m\u001b[39m\"\u001b[39m\n\u001b[0;32m      <a href='vscode-notebook-cell:/c%3A/Users/DePauw/AppData/Local/RenderCard/EAAI23/data/process_data.ipynb#ch0000020?line=7'>8</a>\u001b[0m filename_label(train_filename, train_class, \u001b[39m\"\u001b[39m\u001b[39mtrainval_name_classlable.csv\u001b[39m\u001b[39m\"\u001b[39m)\n\u001b[1;32m----> <a href='vscode-notebook-cell:/c%3A/Users/DePauw/AppData/Local/RenderCard/EAAI23/data/process_data.ipynb#ch0000020?line=8'>9</a>\u001b[0m filename_label(train_filename, train_reg, \u001b[39m\"\u001b[39;49m\u001b[39mtrainval_name_reglabel.csv\u001b[39;49m\u001b[39m\"\u001b[39;49m)\n\u001b[0;32m     <a href='vscode-notebook-cell:/c%3A/Users/DePauw/AppData/Local/RenderCard/EAAI23/data/process_data.ipynb#ch0000020?line=11'>12</a>\u001b[0m \u001b[39m# validation images\u001b[39;00m\n\u001b[0;32m     <a href='vscode-notebook-cell:/c%3A/Users/DePauw/AppData/Local/RenderCard/EAAI23/data/process_data.ipynb#ch0000020?line=12'>13</a>\u001b[0m test_filename \u001b[39m=\u001b[39m load_filename(\u001b[39m\"\u001b[39m\u001b[39mval_set\u001b[39m\u001b[39m\\\\\u001b[39;00m\u001b[39mNew folder\u001b[39m\u001b[39m\\\\\u001b[39;00m\u001b[39mimages\u001b[39m\u001b[39m\"\u001b[39m)\n",
      "\u001b[1;32mc:\\Users\\DePauw\\AppData\\Local\\RenderCard\\EAAI23\\data\\process_data.ipynb Cell 5'\u001b[0m in \u001b[0;36mfilename_label\u001b[1;34m(sorted_filename, label_path, name)\u001b[0m\n\u001b[0;32m      <a href='vscode-notebook-cell:/c%3A/Users/DePauw/AppData/Local/RenderCard/EAAI23/data/process_data.ipynb#ch0000004?line=2'>3</a>\u001b[0m \u001b[39mdef\u001b[39;00m \u001b[39mfilename_label\u001b[39m(sorted_filename, label_path, name) :\n\u001b[0;32m      <a href='vscode-notebook-cell:/c%3A/Users/DePauw/AppData/Local/RenderCard/EAAI23/data/process_data.ipynb#ch0000004?line=3'>4</a>\u001b[0m     labels_sorted \u001b[39m=\u001b[39m np\u001b[39m.\u001b[39mload(label_path)\n\u001b[1;32m----> <a href='vscode-notebook-cell:/c%3A/Users/DePauw/AppData/Local/RenderCard/EAAI23/data/process_data.ipynb#ch0000004?line=5'>6</a>\u001b[0m     final \u001b[39m=\u001b[39m pd\u001b[39m.\u001b[39;49mDataFrame(data\u001b[39m=\u001b[39;49m{\n\u001b[0;32m      <a href='vscode-notebook-cell:/c%3A/Users/DePauw/AppData/Local/RenderCard/EAAI23/data/process_data.ipynb#ch0000004?line=6'>7</a>\u001b[0m         \u001b[39m\"\u001b[39;49m\u001b[39mImage file\u001b[39;49m\u001b[39m\"\u001b[39;49m : sorted_filename,\n\u001b[0;32m      <a href='vscode-notebook-cell:/c%3A/Users/DePauw/AppData/Local/RenderCard/EAAI23/data/process_data.ipynb#ch0000004?line=7'>8</a>\u001b[0m         \u001b[39m\"\u001b[39;49m\u001b[39mLabel\u001b[39;49m\u001b[39m\"\u001b[39;49m : labels_sorted\n\u001b[0;32m      <a href='vscode-notebook-cell:/c%3A/Users/DePauw/AppData/Local/RenderCard/EAAI23/data/process_data.ipynb#ch0000004?line=8'>9</a>\u001b[0m     })\n\u001b[0;32m     <a href='vscode-notebook-cell:/c%3A/Users/DePauw/AppData/Local/RenderCard/EAAI23/data/process_data.ipynb#ch0000004?line=10'>11</a>\u001b[0m     final\u001b[39m.\u001b[39mto_csv(name)\n",
      "File \u001b[1;32m~\\AppData\\Local\\Programs\\Python\\Python38\\lib\\site-packages\\pandas\\core\\frame.py:636\u001b[0m, in \u001b[0;36mDataFrame.__init__\u001b[1;34m(self, data, index, columns, dtype, copy)\u001b[0m\n\u001b[0;32m    <a href='file:///c%3A/Users/DePauw/AppData/Local/Programs/Python/Python38/lib/site-packages/pandas/core/frame.py?line=629'>630</a>\u001b[0m     mgr \u001b[39m=\u001b[39m \u001b[39mself\u001b[39m\u001b[39m.\u001b[39m_init_mgr(\n\u001b[0;32m    <a href='file:///c%3A/Users/DePauw/AppData/Local/Programs/Python/Python38/lib/site-packages/pandas/core/frame.py?line=630'>631</a>\u001b[0m         data, axes\u001b[39m=\u001b[39m{\u001b[39m\"\u001b[39m\u001b[39mindex\u001b[39m\u001b[39m\"\u001b[39m: index, \u001b[39m\"\u001b[39m\u001b[39mcolumns\u001b[39m\u001b[39m\"\u001b[39m: columns}, dtype\u001b[39m=\u001b[39mdtype, copy\u001b[39m=\u001b[39mcopy\n\u001b[0;32m    <a href='file:///c%3A/Users/DePauw/AppData/Local/Programs/Python/Python38/lib/site-packages/pandas/core/frame.py?line=631'>632</a>\u001b[0m     )\n\u001b[0;32m    <a href='file:///c%3A/Users/DePauw/AppData/Local/Programs/Python/Python38/lib/site-packages/pandas/core/frame.py?line=633'>634</a>\u001b[0m \u001b[39melif\u001b[39;00m \u001b[39misinstance\u001b[39m(data, \u001b[39mdict\u001b[39m):\n\u001b[0;32m    <a href='file:///c%3A/Users/DePauw/AppData/Local/Programs/Python/Python38/lib/site-packages/pandas/core/frame.py?line=634'>635</a>\u001b[0m     \u001b[39m# GH#38939 de facto copy defaults to False only in non-dict cases\u001b[39;00m\n\u001b[1;32m--> <a href='file:///c%3A/Users/DePauw/AppData/Local/Programs/Python/Python38/lib/site-packages/pandas/core/frame.py?line=635'>636</a>\u001b[0m     mgr \u001b[39m=\u001b[39m dict_to_mgr(data, index, columns, dtype\u001b[39m=\u001b[39;49mdtype, copy\u001b[39m=\u001b[39;49mcopy, typ\u001b[39m=\u001b[39;49mmanager)\n\u001b[0;32m    <a href='file:///c%3A/Users/DePauw/AppData/Local/Programs/Python/Python38/lib/site-packages/pandas/core/frame.py?line=636'>637</a>\u001b[0m \u001b[39melif\u001b[39;00m \u001b[39misinstance\u001b[39m(data, ma\u001b[39m.\u001b[39mMaskedArray):\n\u001b[0;32m    <a href='file:///c%3A/Users/DePauw/AppData/Local/Programs/Python/Python38/lib/site-packages/pandas/core/frame.py?line=637'>638</a>\u001b[0m     \u001b[39mimport\u001b[39;00m \u001b[39mnumpy\u001b[39;00m\u001b[39m.\u001b[39;00m\u001b[39mma\u001b[39;00m\u001b[39m.\u001b[39;00m\u001b[39mmrecords\u001b[39;00m \u001b[39mas\u001b[39;00m \u001b[39mmrecords\u001b[39;00m\n",
      "File \u001b[1;32m~\\AppData\\Local\\Programs\\Python\\Python38\\lib\\site-packages\\pandas\\core\\internals\\construction.py:502\u001b[0m, in \u001b[0;36mdict_to_mgr\u001b[1;34m(data, index, columns, dtype, typ, copy)\u001b[0m\n\u001b[0;32m    <a href='file:///c%3A/Users/DePauw/AppData/Local/Programs/Python/Python38/lib/site-packages/pandas/core/internals/construction.py?line=493'>494</a>\u001b[0m     arrays \u001b[39m=\u001b[39m [\n\u001b[0;32m    <a href='file:///c%3A/Users/DePauw/AppData/Local/Programs/Python/Python38/lib/site-packages/pandas/core/internals/construction.py?line=494'>495</a>\u001b[0m         x\n\u001b[0;32m    <a href='file:///c%3A/Users/DePauw/AppData/Local/Programs/Python/Python38/lib/site-packages/pandas/core/internals/construction.py?line=495'>496</a>\u001b[0m         \u001b[39mif\u001b[39;00m \u001b[39mnot\u001b[39;00m \u001b[39mhasattr\u001b[39m(x, \u001b[39m\"\u001b[39m\u001b[39mdtype\u001b[39m\u001b[39m\"\u001b[39m) \u001b[39mor\u001b[39;00m \u001b[39mnot\u001b[39;00m \u001b[39misinstance\u001b[39m(x\u001b[39m.\u001b[39mdtype, ExtensionDtype)\n\u001b[0;32m    <a href='file:///c%3A/Users/DePauw/AppData/Local/Programs/Python/Python38/lib/site-packages/pandas/core/internals/construction.py?line=496'>497</a>\u001b[0m         \u001b[39melse\u001b[39;00m x\u001b[39m.\u001b[39mcopy()\n\u001b[0;32m    <a href='file:///c%3A/Users/DePauw/AppData/Local/Programs/Python/Python38/lib/site-packages/pandas/core/internals/construction.py?line=497'>498</a>\u001b[0m         \u001b[39mfor\u001b[39;00m x \u001b[39min\u001b[39;00m arrays\n\u001b[0;32m    <a href='file:///c%3A/Users/DePauw/AppData/Local/Programs/Python/Python38/lib/site-packages/pandas/core/internals/construction.py?line=498'>499</a>\u001b[0m     ]\n\u001b[0;32m    <a href='file:///c%3A/Users/DePauw/AppData/Local/Programs/Python/Python38/lib/site-packages/pandas/core/internals/construction.py?line=499'>500</a>\u001b[0m     \u001b[39m# TODO: can we get rid of the dt64tz special case above?\u001b[39;00m\n\u001b[1;32m--> <a href='file:///c%3A/Users/DePauw/AppData/Local/Programs/Python/Python38/lib/site-packages/pandas/core/internals/construction.py?line=501'>502</a>\u001b[0m \u001b[39mreturn\u001b[39;00m arrays_to_mgr(arrays, columns, index, dtype\u001b[39m=\u001b[39;49mdtype, typ\u001b[39m=\u001b[39;49mtyp, consolidate\u001b[39m=\u001b[39;49mcopy)\n",
      "File \u001b[1;32m~\\AppData\\Local\\Programs\\Python\\Python38\\lib\\site-packages\\pandas\\core\\internals\\construction.py:120\u001b[0m, in \u001b[0;36marrays_to_mgr\u001b[1;34m(arrays, columns, index, dtype, verify_integrity, typ, consolidate)\u001b[0m\n\u001b[0;32m    <a href='file:///c%3A/Users/DePauw/AppData/Local/Programs/Python/Python38/lib/site-packages/pandas/core/internals/construction.py?line=116'>117</a>\u001b[0m \u001b[39mif\u001b[39;00m verify_integrity:\n\u001b[0;32m    <a href='file:///c%3A/Users/DePauw/AppData/Local/Programs/Python/Python38/lib/site-packages/pandas/core/internals/construction.py?line=117'>118</a>\u001b[0m     \u001b[39m# figure out the index, if necessary\u001b[39;00m\n\u001b[0;32m    <a href='file:///c%3A/Users/DePauw/AppData/Local/Programs/Python/Python38/lib/site-packages/pandas/core/internals/construction.py?line=118'>119</a>\u001b[0m     \u001b[39mif\u001b[39;00m index \u001b[39mis\u001b[39;00m \u001b[39mNone\u001b[39;00m:\n\u001b[1;32m--> <a href='file:///c%3A/Users/DePauw/AppData/Local/Programs/Python/Python38/lib/site-packages/pandas/core/internals/construction.py?line=119'>120</a>\u001b[0m         index \u001b[39m=\u001b[39m _extract_index(arrays)\n\u001b[0;32m    <a href='file:///c%3A/Users/DePauw/AppData/Local/Programs/Python/Python38/lib/site-packages/pandas/core/internals/construction.py?line=120'>121</a>\u001b[0m     \u001b[39melse\u001b[39;00m:\n\u001b[0;32m    <a href='file:///c%3A/Users/DePauw/AppData/Local/Programs/Python/Python38/lib/site-packages/pandas/core/internals/construction.py?line=121'>122</a>\u001b[0m         index \u001b[39m=\u001b[39m ensure_index(index)\n",
      "File \u001b[1;32m~\\AppData\\Local\\Programs\\Python\\Python38\\lib\\site-packages\\pandas\\core\\internals\\construction.py:661\u001b[0m, in \u001b[0;36m_extract_index\u001b[1;34m(data)\u001b[0m\n\u001b[0;32m    <a href='file:///c%3A/Users/DePauw/AppData/Local/Programs/Python/Python38/lib/site-packages/pandas/core/internals/construction.py?line=658'>659</a>\u001b[0m         raw_lengths\u001b[39m.\u001b[39mappend(\u001b[39mlen\u001b[39m(val))\n\u001b[0;32m    <a href='file:///c%3A/Users/DePauw/AppData/Local/Programs/Python/Python38/lib/site-packages/pandas/core/internals/construction.py?line=659'>660</a>\u001b[0m     \u001b[39melif\u001b[39;00m \u001b[39misinstance\u001b[39m(val, np\u001b[39m.\u001b[39mndarray) \u001b[39mand\u001b[39;00m val\u001b[39m.\u001b[39mndim \u001b[39m>\u001b[39m \u001b[39m1\u001b[39m:\n\u001b[1;32m--> <a href='file:///c%3A/Users/DePauw/AppData/Local/Programs/Python/Python38/lib/site-packages/pandas/core/internals/construction.py?line=660'>661</a>\u001b[0m         \u001b[39mraise\u001b[39;00m \u001b[39mValueError\u001b[39;00m(\u001b[39m\"\u001b[39m\u001b[39mPer-column arrays must each be 1-dimensional\u001b[39m\u001b[39m\"\u001b[39m)\n\u001b[0;32m    <a href='file:///c%3A/Users/DePauw/AppData/Local/Programs/Python/Python38/lib/site-packages/pandas/core/internals/construction.py?line=662'>663</a>\u001b[0m \u001b[39mif\u001b[39;00m \u001b[39mnot\u001b[39;00m indexes \u001b[39mand\u001b[39;00m \u001b[39mnot\u001b[39;00m raw_lengths:\n\u001b[0;32m    <a href='file:///c%3A/Users/DePauw/AppData/Local/Programs/Python/Python38/lib/site-packages/pandas/core/internals/construction.py?line=663'>664</a>\u001b[0m     \u001b[39mraise\u001b[39;00m \u001b[39mValueError\u001b[39;00m(\u001b[39m\"\u001b[39m\u001b[39mIf using all scalar values, you must pass an index\u001b[39m\u001b[39m\"\u001b[39m)\n",
      "\u001b[1;31mValueError\u001b[0m: Per-column arrays must each be 1-dimensional"
     ]
    }
   ],
   "source": [
    "def main() :\n",
    "    \n",
    "    # training images\n",
    "    train_filename = load_filename(\"train_set\\\\New folder\\\\images\")\n",
    "    train_class = \"trainval_class.npy\"\n",
    "    train_reg = \"trainval_reg.npy\"\n",
    "\n",
    "    filename_label(train_filename, train_class, \"trainval_name_classlable.csv\")\n",
    "    filename_label(train_filename, train_reg, \"trainval_name_reglabel.csv\")\n",
    "\n",
    "\n",
    "    # validation images\n",
    "    test_filename = load_filename(\"val_set\\\\New folder\\\\images\")\n",
    "    test_class = \"test_class_sorted.npy\"\n",
    "    test_reg = \"test_reg_sorted.npy\"\n",
    "\n",
    "    filename_label(test_filename, test_class, \"test_name_classlable.csv\")\n",
    "    filename_label(test_filename, test_reg, \"test_name_reglabel.csv\")\n",
    "\n",
    "main()"
   ]
  },
  {
   "cell_type": "code",
   "execution_count": 3,
   "metadata": {},
   "outputs": [],
   "source": [
    "def process_path(sorted_filename, path_dest_name) :\n",
    "    all_img_path = []\n",
    "\n",
    "    count = 0\n",
    "\n",
    "    for image in sorted_filename :\n",
    "        count += 1\n",
    "        all_img_path.append(image.split('.')[0])\n",
    "        if (count % 10000 == 0) : print(\"processed\", count, \"images\")\n",
    "\n",
    "    all_img_path = np.asarray(all_img_path)\n",
    "    np.save(path_dest_name, all_img_path)"
   ]
  },
  {
   "cell_type": "markdown",
   "metadata": {},
   "source": [
    "## Load and Process Labels"
   ]
  },
  {
   "cell_type": "code",
   "execution_count": 4,
   "metadata": {},
   "outputs": [],
   "source": [
    "def process_label(path, file_num_arr, label_dest_name) :\n",
    "    \n",
    "    labels = []\n",
    "\n",
    "    count = 0\n",
    "\n",
    "    for file_num in file_num_arr :\n",
    "        gc.collect()\n",
    "        emotion = (np.load(path + \"/\" + file_num + \"_exp.npy\"))\n",
    "        valence = (np.load(path + \"/\" + file_num + \"_val.npy\"))\n",
    "        arousal = (np.load(path + \"/\" + file_num + \"_aro.npy\"))\n",
    "        labels.append([emotion, valence, arousal])\n",
    "        count += 1\n",
    "        if (count % 5000 == 0) : print(\"processed\", count, \"labels\")\n",
    "\n",
    "    labels = np.asarray(labels)\n",
    "    np.save(label_dest_name, labels)\n"
   ]
  },
  {
   "cell_type": "code",
   "execution_count": 5,
   "metadata": {},
   "outputs": [],
   "source": [
    "def total_img_cnt(paths) :\n",
    "    total_img_cnt = 0\n",
    "    for path in paths :\n",
    "        total_img_cnt += len([file for file in os.listdir(path)])\n",
    "    \n",
    "    return total_img_cnt"
   ]
  },
  {
   "cell_type": "markdown",
   "metadata": {},
   "source": [
    "## Main"
   ]
  },
  {
   "cell_type": "markdown",
   "metadata": {},
   "source": [
    "### Load image path and labels\n",
    "- Each image is numbered non-consecutively\n",
    "- The path contain the image's number only\n",
    "- with the same order, load into np array the labels of each image as a 2d array: (total number of images, 3)\n",
    "    - img_label_arr = [emotion, valence, arousal]"
   ]
  },
  {
   "cell_type": "markdown",
   "metadata": {},
   "source": [
    "#### Process path and labels of images in the train_set"
   ]
  },
  {
   "cell_type": "code",
   "execution_count": 6,
   "metadata": {},
   "outputs": [],
   "source": [
    "def process_train_set() :\n",
    "    # path to the train_set folders\n",
    "    train_img_path = \"C:/Phanh/train_set/train_set/images\"\n",
    "    train_annotation_path = \"C:/Phanh/train_set/train_set/annotations\"\n",
    "\n",
    "    # load the name of all image files (images are numbered not consecutively)\n",
    "    sorted_train_file = load_filename(train_img_path)\n",
    "    path_filename = \"C:/Phanh/BuAnhNet/EAAI23/train_set_path.npy\"\n",
    "\n",
    "    # load and save image data into numpy array and the image numbers\n",
    "    process_path(sorted_train_file, path_filename)\n",
    "    train_file_num = np.load(path_filename)\n",
    "\n",
    "    # load and save labels into numpy array\n",
    "    label_filename = \"C:/Phanh/BuAnhNet/EAAI23/train_set_label.npy\"\n",
    "    process_label(train_annotation_path, train_file_num, label_filename)"
   ]
  },
  {
   "cell_type": "markdown",
   "metadata": {},
   "source": [
    "#### Process path and labels of images in the val_set"
   ]
  },
  {
   "cell_type": "code",
   "execution_count": 7,
   "metadata": {},
   "outputs": [],
   "source": [
    "def process_val_set() :\n",
    "    # path to the train_set folders\n",
    "    val_img_path = \"C:/Phanh/val_set/images\"\n",
    "    val_annotation_path = \"C:/Phanh/val_set/annotations\"\n",
    "\n",
    "    # load the name of all image files (images are numbered not consecutively)\n",
    "    sorted_val_file = load_filename(val_img_path)\n",
    "    path_filename = \"C:/Phanh/BuAnhNet/EAAI23/val_set_path.npy\"\n",
    "\n",
    "    # load and save image data into numpy array and the image numbers\n",
    "    process_path(sorted_val_file, path_filename)\n",
    "    val_file_num = np.load(path_filename)\n",
    "\n",
    "    # load and save labels into numpy array\n",
    "    label_filename = \"C:/Phanh/BuAnhNet/EAAI23/val_set_label.npy\"\n",
    "    process_label(val_annotation_path, val_file_num, label_filename)"
   ]
  },
  {
   "cell_type": "markdown",
   "metadata": {},
   "source": [
    "## Train-test Split"
   ]
  },
  {
   "cell_type": "code",
   "execution_count": 8,
   "metadata": {},
   "outputs": [],
   "source": [
    "# x_train, y_train = path_arr, label_arr\n",
    "def train_val_split(path_arr, label_arr, train_ratio=0.8, shuffle=True, seed=1) :\n",
    "    # x_train, x_val, y_train, y_val\n",
    "    train_path, val_path, train_label, val_label = train_test_split(path_arr, label_arr, test_size=float(1-train_ratio), random_state=seed, shuffle=shuffle)\n",
    "\n",
    "    np.save(\"train_path.npy\", train_path)\n",
    "    np.save(\"val_path.npy\", val_path)\n",
    "    np.save(\"train_label.npy\", train_label)\n",
    "    np.save(\"val_label.npy\", val_label)"
   ]
  },
  {
   "cell_type": "code",
   "execution_count": 9,
   "metadata": {},
   "outputs": [],
   "source": [
    "def main() :\n",
    "    path_arr = np.load(\"train_set_path.npy\")\n",
    "    label_arr = np.load(\"train_set_label.npy\")\n",
    "\n",
    "    train_val_split(path_arr, label_arr)"
   ]
  },
  {
   "cell_type": "code",
   "execution_count": 10,
   "metadata": {},
   "outputs": [],
   "source": [
    "import numpy as np\n",
    "\n",
    "def separate(path, class_filename, reg_filename) :\n",
    "    # separate classification data from regression data\n",
    "    org_arr = np.load(path)\n",
    "    transposed = np.transpose(org_arr)\n",
    "\n",
    "    classification = transposed[0]\n",
    "    regression = np.asarray([transposed[1], transposed[2]]) # valence, arousal\n",
    "    regression_transposed = np.transpose(regression)\n",
    "\n",
    "    np.save(class_filename, classification)\n",
    "    np.save(reg_filename, regression_transposed)"
   ]
  },
  {
   "cell_type": "code",
   "execution_count": 11,
   "metadata": {},
   "outputs": [],
   "source": [
    "test_set = \"C:/Phanh/BuAnhNet/EAAI23/archive/test_set_label.npy\"\n",
    "\n",
    "separate(test_set, \"test_class_sorted.npy\", \"test_reg_sorted.npy\")\n"
   ]
  }
 ],
 "metadata": {
  "interpreter": {
   "hash": "e28bfe5e849496f1d027a6bcc8730a360d479bceb67f0622f77bd617aebb68f4"
  },
  "kernelspec": {
   "display_name": "Python 3.9.5 64-bit",
   "language": "python",
   "name": "python3"
  },
  "language_info": {
   "codemirror_mode": {
    "name": "ipython",
    "version": 3
   },
   "file_extension": ".py",
   "mimetype": "text/x-python",
   "name": "python",
   "nbconvert_exporter": "python",
   "pygments_lexer": "ipython3",
   "version": "3.8.0"
  },
  "orig_nbformat": 4
 },
 "nbformat": 4,
 "nbformat_minor": 2
}
