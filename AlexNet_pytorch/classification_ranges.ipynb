{
 "cells": [
  {
   "cell_type": "code",
   "execution_count": 1,
   "metadata": {},
   "outputs": [],
   "source": [
    "from DataLoader import Dataset\n",
    "import torch\n",
    "import numpy as np\n",
    "import pandas as pd"
   ]
  },
  {
   "cell_type": "code",
   "execution_count": 5,
   "metadata": {},
   "outputs": [],
   "source": [
    "root = \"C:/Phanh/BuAnhNet/EAAI23_test/data/\"\n",
    "\n",
    "train_class = root + \"train_class.csv\"\n",
    "train_reg = root + \"train_reg.csv\"\n",
    "\n",
    "val_class = root + \"val_class.csv\"\n",
    "val_reg = root + \"val_reg.csv\"\n",
    "\n",
    "test_class = root + \"test_class.csv\"\n",
    "test_reg = root + \"test_reg.csv\""
   ]
  },
  {
   "cell_type": "code",
   "execution_count": 18,
   "metadata": {},
   "outputs": [
    {
     "name": "stdout",
     "output_type": "stream",
     "text": [
      "int64\n"
     ]
    }
   ],
   "source": [
    "train_class_df = pd.read_csv(train_class, header=None).loc[:, 1]\n",
    "train_reg_df = pd.read_csv(train_reg, header=None).loc[:, 1:2]\n",
    "\n",
    "val_class_df = pd.read_csv(val_class, header=None).loc[:, 1]\n",
    "val_reg_df = pd.read_csv(val_reg, header=None).loc[:, 1:2]\n",
    "\n",
    "test_class_df = pd.read_csv(test_class, header=None).loc[:, 1]\n",
    "test_reg_df = pd.read_csv(test_reg, header=None).loc[:, 1:2]"
   ]
  },
  {
   "cell_type": "code",
   "execution_count": 19,
   "metadata": {},
   "outputs": [
    {
     "name": "stdout",
     "output_type": "stream",
     "text": [
      "(291650,)\n",
      "(291650, 2)\n"
     ]
    }
   ],
   "source": [
    "class_df = pd.concat([train_class_df, val_class_df, test_class_df], ignore_index=True)\n",
    "reg_df = pd.concat([train_reg_df, val_reg_df, test_reg_df], ignore_index=True)\n",
    "\n",
    "print(class_df.shape)\n",
    "print(reg_df.shape)"
   ]
  },
  {
   "cell_type": "code",
   "execution_count": 21,
   "metadata": {},
   "outputs": [
    {
     "name": "stdout",
     "output_type": "stream",
     "text": [
      "(291650, 3)\n"
     ]
    },
    {
     "data": {
      "text/html": [
       "<div>\n",
       "<style scoped>\n",
       "    .dataframe tbody tr th:only-of-type {\n",
       "        vertical-align: middle;\n",
       "    }\n",
       "\n",
       "    .dataframe tbody tr th {\n",
       "        vertical-align: top;\n",
       "    }\n",
       "\n",
       "    .dataframe thead th {\n",
       "        text-align: right;\n",
       "    }\n",
       "</style>\n",
       "<table border=\"1\" class=\"dataframe\">\n",
       "  <thead>\n",
       "    <tr style=\"text-align: right;\">\n",
       "      <th></th>\n",
       "      <th>0</th>\n",
       "      <th>1</th>\n",
       "      <th>2</th>\n",
       "    </tr>\n",
       "  </thead>\n",
       "  <tbody>\n",
       "    <tr>\n",
       "      <th>0</th>\n",
       "      <td>1</td>\n",
       "      <td>0.444444</td>\n",
       "      <td>-0.039683</td>\n",
       "    </tr>\n",
       "    <tr>\n",
       "      <th>1</th>\n",
       "      <td>1</td>\n",
       "      <td>0.783972</td>\n",
       "      <td>0.125823</td>\n",
       "    </tr>\n",
       "    <tr>\n",
       "      <th>2</th>\n",
       "      <td>1</td>\n",
       "      <td>0.803329</td>\n",
       "      <td>0.096787</td>\n",
       "    </tr>\n",
       "    <tr>\n",
       "      <th>3</th>\n",
       "      <td>1</td>\n",
       "      <td>0.537295</td>\n",
       "      <td>0.136957</td>\n",
       "    </tr>\n",
       "    <tr>\n",
       "      <th>4</th>\n",
       "      <td>1</td>\n",
       "      <td>0.412698</td>\n",
       "      <td>0.126984</td>\n",
       "    </tr>\n",
       "    <tr>\n",
       "      <th>5</th>\n",
       "      <td>6</td>\n",
       "      <td>-0.733207</td>\n",
       "      <td>0.465153</td>\n",
       "    </tr>\n",
       "    <tr>\n",
       "      <th>6</th>\n",
       "      <td>1</td>\n",
       "      <td>0.896825</td>\n",
       "      <td>0.158730</td>\n",
       "    </tr>\n",
       "    <tr>\n",
       "      <th>7</th>\n",
       "      <td>1</td>\n",
       "      <td>0.777778</td>\n",
       "      <td>0.039683</td>\n",
       "    </tr>\n",
       "    <tr>\n",
       "      <th>8</th>\n",
       "      <td>0</td>\n",
       "      <td>-0.012940</td>\n",
       "      <td>0.086266</td>\n",
       "    </tr>\n",
       "    <tr>\n",
       "      <th>9</th>\n",
       "      <td>0</td>\n",
       "      <td>0.358196</td>\n",
       "      <td>-0.189633</td>\n",
       "    </tr>\n",
       "  </tbody>\n",
       "</table>\n",
       "</div>"
      ],
      "text/plain": [
       "   0         1         2\n",
       "0  1  0.444444 -0.039683\n",
       "1  1  0.783972  0.125823\n",
       "2  1  0.803329  0.096787\n",
       "3  1  0.537295  0.136957\n",
       "4  1  0.412698  0.126984\n",
       "5  6 -0.733207  0.465153\n",
       "6  1  0.896825  0.158730\n",
       "7  1  0.777778  0.039683\n",
       "8  0 -0.012940  0.086266\n",
       "9  0  0.358196 -0.189633"
      ]
     },
     "execution_count": 21,
     "metadata": {},
     "output_type": "execute_result"
    }
   ],
   "source": [
    "df = pd.concat([class_df, reg_df], axis=1, ignore_index=True)\n",
    "print(df.shape)\n",
    "df.head(10)"
   ]
  },
  {
   "cell_type": "code",
   "execution_count": 24,
   "metadata": {},
   "outputs": [
    {
     "name": "stdout",
     "output_type": "stream",
     "text": [
      "Classification: 0 Neutral\n",
      "Valence range [-0.875919, 0.880952]\n",
      "Arousal range [-0.831821, 0.769069]\n",
      "\n",
      "\n",
      "Classification: 1 Happy\n",
      "Valence range [-0.615763, 0.999081]\n",
      "Arousal range [-0.944444, 0.968254]\n",
      "\n",
      "\n",
      "Classification: 2 Sad\n",
      "Valence range [-0.999081, 0.880952]\n",
      "Arousal range [-0.971666, 0.929152]\n",
      "\n",
      "\n",
      "Classification: 3 Surprise\n",
      "Valence range [-0.938831, 0.895277]\n",
      "Arousal range [-0.687185, 0.996772]\n",
      "\n",
      "\n",
      "Classification: 4 Fear\n",
      "Valence range [-0.904956, 0.324235]\n",
      "Arousal range [-0.667989, 0.996903]\n",
      "\n",
      "\n",
      "Classification: 5 Disgust\n",
      "Valence range [-0.936508, 0.319396]\n",
      "Arousal range [-0.692025, 0.827526]\n",
      "\n",
      "\n",
      "Classification: 6 Anger\n",
      "Valence range [-0.944444, 0.181159]\n",
      "Arousal range [-0.367789, 0.984127]\n",
      "\n",
      "\n",
      "Classification: 7 Contempt\n",
      "Valence range [-0.933991, 0.662989]\n",
      "Arousal range [-0.556523, 0.904956]\n",
      "\n",
      "\n"
     ]
    }
   ],
   "source": [
    "decoder = {\n",
    "    0 : 'Neutral',\n",
    "    1 : 'Happy',\n",
    "    2 : 'Sad',\n",
    "    3 : 'Surprise',\n",
    "    4 : 'Fear',\n",
    "    5 : 'Disgust',\n",
    "    6 : 'Anger',\n",
    "    7 : 'Contempt'\n",
    "}\n",
    "\n",
    "for i in np.unique(df.loc[:, 0]) :\n",
    "    print(\"Classification:\", i, decoder.get(i))\n",
    "    low_val = np.min((df.loc[df[0] == i]).loc[:, 1])\n",
    "    high_val = np.max((df.loc[df[0] == i]).loc[:, 1])\n",
    "\n",
    "    low_ars = np.min((df.loc[df[0] == i]).loc[:, 2])\n",
    "    high_ars = np.max((df.loc[df[0] == i]).loc[:, 2])\n",
    "\n",
    "    print(\"Valence range [{}, {}]\".format(low_val, high_val))\n",
    "    print(\"Arousal range [{}, {}]\".format(low_ars, high_ars))\n",
    "    print(\"\\n\")"
   ]
  },
  {
   "cell_type": "code",
   "execution_count": null,
   "metadata": {},
   "outputs": [],
   "source": []
  }
 ],
 "metadata": {
  "interpreter": {
   "hash": "e28bfe5e849496f1d027a6bcc8730a360d479bceb67f0622f77bd617aebb68f4"
  },
  "kernelspec": {
   "display_name": "Python 3.9.5 64-bit",
   "language": "python",
   "name": "python3"
  },
  "language_info": {
   "codemirror_mode": {
    "name": "ipython",
    "version": 3
   },
   "file_extension": ".py",
   "mimetype": "text/x-python",
   "name": "python",
   "nbconvert_exporter": "python",
   "pygments_lexer": "ipython3",
   "version": "3.9.5"
  },
  "orig_nbformat": 4
 },
 "nbformat": 4,
 "nbformat_minor": 2
}
