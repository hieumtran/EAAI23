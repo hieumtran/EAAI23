{
 "cells": [
  {
   "cell_type": "code",
   "execution_count": 1,
   "metadata": {},
   "outputs": [],
   "source": [
    "import numpy as np\n",
    "import matplotlib.pyplot as plt\n",
    "import torch\n",
    "import os\n",
    "import pandas as pd"
   ]
  },
  {
   "cell_type": "code",
   "execution_count": 2,
   "metadata": {},
   "outputs": [],
   "source": [
    "from torch.utils.data import Dataset\n",
    "import io \n",
    "\n",
    "# inherit the DataSet class in pytorch\n",
    "class DataSet(Dataset) :\n",
    "    def __init__(self, image_path, label_file, transform=None) :\n",
    "        \"\"\"\n",
    "        Args:\n",
    "            image_path (string): Path to the folder containing all of the images.\n",
    "            label_file (string): Path to the .npy file containing the labels of the sorted images\n",
    "                in the corresponding image folder.\n",
    "            transform (callable, optional): Optional transform to be applied on a sample\n",
    "        \"\"\"\n",
    "        self.image_path = image_path\n",
    "        self.labels = pd.read_csv(label_file)\n",
    "        self.transform = transform\n",
    "\n",
    "    \n",
    "    def __len__(self) :\n",
    "        return len(self.labels)\n",
    "\n",
    "    def __getitem__(self, idx) :\n",
    "\n",
    "        if torch.is_tensor(idx) :\n",
    "            idx = idx.tolist()\n",
    "\n",
    "        img_name = os.path.join(self.image_path,\n",
    "                                self.lables.iloc[idx, 0])\n",
    "        image = io.imread(img_name)\n",
    "        labels = self.labels.iloc[idx, 1:]\n",
    "        labels = np.array([labels])\n",
    "        labels = labels.astype('float').reshape(-1, 2)\n",
    "        sample = {'image': image, 'landmarks': labels}\n",
    "\n",
    "        if self.transform:\n",
    "            sample = self.transform(sample)\n",
    "\n",
    "        return sample\n",
    "        "
   ]
  },
  {
   "cell_type": "code",
   "execution_count": 4,
   "metadata": {},
   "outputs": [],
   "source": [
    "import os\n",
    "from PIL import Image\n",
    "import numpy as np\n",
    "import torch\n",
    "\n",
    "count = 0\n",
    "images = []\n",
    "path = \"C:/Users/DePauw/AppData/Local/RenderCard/EAAI23/data/train_set/New folder/images/\"\n",
    "for file in os.listdir(path) :\n",
    "    if (count < 1024) :\n",
    "        images.append(np.asarray(Image.open(path + file)))\n",
    "    count += 1\n",
    "\n",
    "images = torch.tensor(images)"
   ]
  }
 ],
 "metadata": {
  "interpreter": {
   "hash": "e28bfe5e849496f1d027a6bcc8730a360d479bceb67f0622f77bd617aebb68f4"
  },
  "kernelspec": {
   "display_name": "Python 3.9.5 64-bit",
   "language": "python",
   "name": "python3"
  },
  "language_info": {
   "codemirror_mode": {
    "name": "ipython",
    "version": 3
   },
   "file_extension": ".py",
   "mimetype": "text/x-python",
   "name": "python",
   "nbconvert_exporter": "python",
   "pygments_lexer": "ipython3",
   "version": "3.8.0"
  },
  "orig_nbformat": 4
 },
 "nbformat": 4,
 "nbformat_minor": 2
}
