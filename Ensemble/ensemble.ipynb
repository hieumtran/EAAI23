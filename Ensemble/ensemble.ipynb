{
 "cells": [
  {
   "cell_type": "code",
   "execution_count": null,
   "metadata": {},
   "outputs": [],
   "source": [
    "import numpy as np\n",
    "import matplotlib.pyplot as plt\n",
    "import torch\n",
    "import os"
   ]
  },
  {
   "cell_type": "code",
   "execution_count": null,
   "metadata": {},
   "outputs": [],
   "source": [
    "from torch.utils.data import Dataset\n",
    "# inherit the DataSet class in pytorch\n",
    "class DataSet(Dataset) :\n",
    "    def __init__() :\n",
    "        pass\n",
    "\n",
    "    \n",
    "    def __len__(self) :\n",
    "        pass\n",
    "\n",
    "    def __getitem__(self, idx) :\n",
    "        pass"
   ]
  },
  {
   "cell_type": "code",
   "execution_count": 2,
   "metadata": {},
   "outputs": [
    {
     "name": "stderr",
     "output_type": "stream",
     "text": [
      "C:\\Users\\Anh Do\\AppData\\Local\\Temp\\ipykernel_16844\\1441380774.py:14: UserWarning: Creating a tensor from a list of numpy.ndarrays is extremely slow. Please consider converting the list to a single numpy.ndarray with numpy.array() before converting to a tensor. (Triggered internally at  ..\\torch\\csrc\\utils\\tensor_new.cpp:201.)\n",
      "  images = torch.tensor(images)\n"
     ]
    }
   ],
   "source": [
    "import os\n",
    "from PIL import Image\n",
    "import numpy as np\n",
    "import torch\n",
    "\n",
    "count = 0\n",
    "images = []\n",
    "path = \"C:/Phanh/BuAnhNet/EAAI23/data/train_set/New folder/images/\"\n",
    "for file in os.listdir(path) :\n",
    "    if (count < 1024) :\n",
    "        images.append(np.asarray(Image.open(path + file)))\n",
    "    count += 1\n",
    "\n",
    "images = torch.tensor(images)"
   ]
  }
 ],
 "metadata": {
  "interpreter": {
   "hash": "e28bfe5e849496f1d027a6bcc8730a360d479bceb67f0622f77bd617aebb68f4"
  },
  "kernelspec": {
   "display_name": "Python 3.9.5 64-bit",
   "language": "python",
   "name": "python3"
  },
  "language_info": {
   "codemirror_mode": {
    "name": "ipython",
    "version": 3
   },
   "file_extension": ".py",
   "mimetype": "text/x-python",
   "name": "python",
   "nbconvert_exporter": "python",
   "pygments_lexer": "ipython3",
   "version": "3.9.5"
  },
  "orig_nbformat": 4
 },
 "nbformat": 4,
 "nbformat_minor": 2
}
