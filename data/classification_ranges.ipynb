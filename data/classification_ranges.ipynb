Classification: 0
Valence range [
    -0.875919,
    0.880952
]
Valence range [
    -0.831821,
    0.769069
]


Classification: 1
Valence range [
    -0.615763,
    0.999081
]
Valence range [
    -0.944444,
    0.968254
]


Classification: 2
Valence range [
    -0.999081,
    0.880952
]
Valence range [
    -0.971666,
    0.929152
]


Classification: 3
Valence range [
    -0.938831,
    0.895277
]
Valence range [
    -0.687185,
    0.996772
]


Classification: 4
Valence range [
    -0.904956,
    0.324235
]
Valence range [
    -0.667989,
    0.996903
]


Classification: 5
Valence range [
    -0.936508,
    0.319396
]
Valence range [
    -0.692025,
    0.827526
]


Classification: 6
Valence range [
    -0.944444,
    0.181159
]
Valence range [
    -0.367789,
    0.984127
]


Classification: 7
Valence range [
    -0.933991,
    0.662989
]
Valence range [
    -0.556523,
    0.904956
]