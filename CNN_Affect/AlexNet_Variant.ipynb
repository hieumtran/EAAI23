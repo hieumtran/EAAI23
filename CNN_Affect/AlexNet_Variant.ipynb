{
 "cells": [
  {
   "cell_type": "markdown",
   "metadata": {},
   "source": [
    "# Architecture 1: AlexNet Variant"
   ]
  },
  {
   "cell_type": "code",
   "execution_count": 1,
   "metadata": {},
   "outputs": [],
   "source": [
    "import numpy as np\n",
    "import matplotlib.pyplot as plt\n",
    "from keras.layers import Activation, BatchNormalization, Conv2D, Dense, Dropout, Flatten, GaussianDropout, GlobalAveragePooling2D, MaxPooling2D\n",
    "from keras.models import Sequential, load_model"
   ]
  },
  {
   "cell_type": "markdown",
   "metadata": {},
   "source": [
    "## Defining the Model\n",
    "- A series of incremental smaller convolution kernels feeding through the Convolutional (Conventional 2D) layer:\n",
    "    - 9 x 9 x 16\n",
    "    - 7 x 7 x 32\n",
    "    - 5 x 5 x 64\n",
    "    - 3 x 3 x 128\n",
    "- Each Conv2D layer is followed by a batch normalization layer and a ReLU activation layer\n",
    "- A 2 x 2 max-pooling layer between two Convolutional layers\n",
    "- GausianDropout at\n",
    "    - 0.2 rate after each pooling layer\n",
    "    - 0.5 rate after each dense layer\n",
    "- flatten\n",
    "- 2 fully connected Dense layers before the output layer\n",
    "\n",
    "- Output layer:\n",
    "    - return the valence/arousal pair, also **R** = 0 (regression): input_shape = 2, linear activation\n",
    "        - compile: mean_squared_error, adam optimizer\n",
    "        - return 2 floats (valence, arousal)\n",
    "    - return the Expression classification, also **C** = 1 (classification): input_shape = 8, softmax activation\n",
    "        - compile: categorical_crossentropy, adam optimizer, metrics = ['accuracy']\n",
    "        - return 1 label (0 to 8)"
   ]
  },
  {
   "cell_type": "code",
   "execution_count": null,
   "metadata": {},
   "outputs": [],
   "source": [
    "# arguments:\n",
    "#   image_size: assuming all the input photo has size m*m. The default of this dataset is 128\n",
    "#   R_or_C: regression (0) or classification (1). We are more interested in regression so the default is set to 0\n",
    "def alexnet_var_model(image_size = 128,\n",
    "                      R_or_C = 0, \n",
    "                      conv_shapes = [[16, (9, 9)], [32, (7, 7)], [64, (5, 5)], [128, (3, 3)], [128, (3, 3)]], \n",
    "                      dropout=[0.2, 0.5]) :\n",
    "\n",
    "    model = Sequential()\n",
    "\n",
    "    # Convolution block 1\n",
    "    model.add(Conv2D(conv_shapes[0][0], conv_shapes[0][1], input_shape=(image_size, image_size, 3), padding='same', use_bias=False))\n",
    "    model.add(BatchNormalization())\n",
    "    model.add(Activation('relu'))\n",
    "    model.add(MaxPooling2D(pool_size=(2, 2), padding='same'))\n",
    "    model.add(GaussianDropout(dropout[0]))\n",
    "\n",
    "    # Convolution blocks 2-5\n",
    "    for i in range (1, len(conv_shapes)) :\n",
    "        model.add(Conv2D(conv_shapes[i][0], conv_shapes[i][1], input_shape=(image_size, image_size, 3), padding='same', use_bias=False))\n",
    "        model.add(BatchNormalization())\n",
    "        model.add(Activation('relu'))\n",
    "        model.add(MaxPooling2D(pool_size=(2, 2), padding='same'))\n",
    "        model.add(GaussianDropout(dropout[0]))\n",
    "\n",
    "\n",
    "    # Flatten\n",
    "    model.add(Flatten())\n",
    "\n",
    "    # Adding 2 Dense layers\n",
    "    for i in range (2) :\n",
    "        model.add(Dense(1024))\n",
    "        model.add(BatchNormalization())\n",
    "        model.add(Activation('relu'))\n",
    "        model.add(GaussianDropout(0.5))\n",
    "\n",
    "    \n",
    "    # Output layer\n",
    "    if (R_or_C == 0) :\n",
    "        model.add(Dense(2, activation='linear'))\n",
    "        model.compile(optimizer='adam', loss='mean_squared_error')\n",
    "    else :\n",
    "        model.add(Dense(8, activation='softmax'))\n",
    "        model.compile(optimizer='adam', loss='categorical_crossentropy',  metrics = ['accuracy'])\n",
    "\n",
    "    return model"
   ]
  },
  {
   "cell_type": "markdown",
   "metadata": {},
   "source": [
    "## Training Procedure\n",
    "1. load x (path) and y (label) data \n",
    "2. define training batches\n",
    "3. implement the training model defined above"
   ]
  },
  {
   "cell_type": "code",
   "execution_count": null,
   "metadata": {},
   "outputs": [],
   "source": [
    "class Training_Procedure :\n",
    "    \n",
    "    pass"
   ]
  },
  {
   "cell_type": "markdown",
   "metadata": {},
   "source": [
    "## Result Visualization\n",
    "Visualize the training and validation loss and accuracy"
   ]
  },
  {
   "cell_type": "code",
   "execution_count": null,
   "metadata": {},
   "outputs": [],
   "source": [
    "def viz_res(trainLoss, trainAcc, valLoss, valAcc, savename = None):\n",
    "    plt.figure(figsize=(15,7))\n",
    "\n",
    "    plt.subplot(1, 2, 1) # row 1, col 2 index 1\n",
    "    plt.plot(trainLoss, color='#17bccf', label='Train')\n",
    "    plt.plot(valLoss, color='#ff7f44', label='Val')\n",
    "    plt.title(\"Loss Func\")\n",
    "    plt.xlabel('Epochs')\n",
    "    plt.grid()\n",
    "    plt.legend()\n",
    "\n",
    "    plt.subplot(1, 2, 2) # index 2\n",
    "    plt.plot(trainAcc, color='#17bccf', label='Train')\n",
    "    plt.plot(valAcc, color='#ff7f44', label='Val')\n",
    "    plt.title('Accuracy')\n",
    "    plt.xlabel('Epochs')\n",
    "    plt.grid()\n",
    "    plt.legend()\n",
    "\n",
    "    plt.tight_layout()\n",
    "    if savename != None: plt.savefig('./figure/' + savename + '.jpg', dpi=500)\n",
    "    plt.show()"
   ]
  },
  {
   "cell_type": "markdown",
   "metadata": {},
   "source": [
    "## Main"
   ]
  },
  {
   "cell_type": "code",
   "execution_count": null,
   "metadata": {},
   "outputs": [],
   "source": [
    "def main() :\n",
    "    pass"
   ]
  }
 ],
 "metadata": {
  "interpreter": {
   "hash": "e28bfe5e849496f1d027a6bcc8730a360d479bceb67f0622f77bd617aebb68f4"
  },
  "kernelspec": {
   "display_name": "Python 3.9.5 64-bit",
   "language": "python",
   "name": "python3"
  },
  "language_info": {
   "codemirror_mode": {
    "name": "ipython",
    "version": 3
   },
   "file_extension": ".py",
   "mimetype": "text/x-python",
   "name": "python",
   "nbconvert_exporter": "python",
   "pygments_lexer": "ipython3",
   "version": "3.9.5"
  },
  "orig_nbformat": 4
 },
 "nbformat": 4,
 "nbformat_minor": 2
}
