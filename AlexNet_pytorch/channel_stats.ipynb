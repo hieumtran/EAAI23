{
 "cells": [
  {
   "cell_type": "code",
   "execution_count": 1,
   "metadata": {},
   "outputs": [],
   "source": [
    "import torch\n",
    "from DataLoader import Dataset\n",
    "from torchvision import transforms"
   ]
  },
  {
   "cell_type": "code",
   "execution_count": 2,
   "metadata": {},
   "outputs": [],
   "source": [
    "root = \"C:/Phanh/BuAnhNet/EAAI23_test/\"\n",
    "train_image_dir = root + \"data/train_set/images/\"\n",
    "test_image_dir = root + \"data/val_set/images\"\n",
    "\n",
    "train_frame = root + \"data/train_class.csv\"\n",
    "val_frame = root + \"data/val_class.csv\"\n",
    "test_frame = root + \"data/test_reg.csv\"\n",
    "\n",
    "train_ds = Dataset(train_image_dir, train_frame, regression=False, transform=transforms.ToTensor())\n",
    "val_ds = Dataset(train_image_dir, val_frame, regression=False, transform=transforms.ToTensor())\n",
    "test_ds = Dataset(test_image_dir, test_frame, regression=False, transform=transforms.ToTensor())\n",
    "\n",
    "ds = torch.utils.data.ConcatDataset([train_ds, val_ds])\n",
    "dataloader = torch.utils.data.DataLoader(ds, batch_size=256, shuffle=False, num_workers=0)"
   ]
  },
  {
   "cell_type": "code",
   "execution_count": 3,
   "metadata": {},
   "outputs": [],
   "source": [
    "mean = 0.\n",
    "std = 0.\n",
    "nb_samples = 0.\n",
    "for data, _ in dataloader:\n",
    "    data = data.to('cuda')\n",
    "    batch_samples = data.size(0)\n",
    "    data = data.view(batch_samples, data.size(1), -1)\n",
    "    mean += data.mean(2).sum(0)\n",
    "    std += data.std(2).sum(0)\n",
    "    nb_samples += batch_samples\n",
    "    break\n",
    "\n",
    "mean /= nb_samples\n",
    "std /= nb_samples"
   ]
  },
  {
   "cell_type": "code",
   "execution_count": 4,
   "metadata": {},
   "outputs": [
    {
     "name": "stdout",
     "output_type": "stream",
     "text": [
      "tensor([0.5686, 0.4505, 0.3990], device='cuda:0') tensor([0.2332, 0.2064, 0.1956], device='cuda:0')\n"
     ]
    }
   ],
   "source": [
    "print(mean, std)"
   ]
  }
 ],
 "metadata": {
  "interpreter": {
   "hash": "e28bfe5e849496f1d027a6bcc8730a360d479bceb67f0622f77bd617aebb68f4"
  },
  "kernelspec": {
   "display_name": "Python 3.9.5 64-bit",
   "language": "python",
   "name": "python3"
  },
  "language_info": {
   "codemirror_mode": {
    "name": "ipython",
    "version": 3
   },
   "file_extension": ".py",
   "mimetype": "text/x-python",
   "name": "python",
   "nbconvert_exporter": "python",
   "pygments_lexer": "ipython3",
   "version": "3.9.5"
  },
  "orig_nbformat": 4
 },
 "nbformat": 4,
 "nbformat_minor": 2
}
